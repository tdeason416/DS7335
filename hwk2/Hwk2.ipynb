{
 "cells": [
  {
   "cell_type": "code",
   "execution_count": 1,
   "metadata": {
    "collapsed": true
   },
   "outputs": [],
   "source": [
    "import json\n",
    "import re\n",
    "import matplotlib.pyplot as plt\n",
    "from collections import Counter\n",
    "import numpy as np\n",
    "from DeathtoGridSearch import GridSearch"
   ]
  },
  {
   "cell_type": "code",
   "execution_count": 2,
   "metadata": {
    "collapsed": true
   },
   "outputs": [],
   "source": [
    "%matplotlib inline"
   ]
  },
  {
   "cell_type": "code",
   "execution_count": 2,
   "metadata": {
    "collapsed": true
   },
   "outputs": [],
   "source": [
    "import pandas as pd"
   ]
  },
  {
   "cell_type": "code",
   "execution_count": 3,
   "metadata": {
    "collapsed": true
   },
   "outputs": [],
   "source": [
    "raw_data = [re.sub(\"[^a-zA-Z0-9.,]\", \"\", i).split(',') for i in open(\"claim.sample.csv\").read().strip().split(\"\\n\")]"
   ]
  },
  {
   "cell_type": "code",
   "execution_count": 4,
   "metadata": {
    "collapsed": true
   },
   "outputs": [],
   "source": [
    "columns = raw_data[0]\n",
    "\n",
    "#map columns to the number which they are in\n",
    "colmap = {k:v for v,k in enumerate(columns)}\n",
    "colmap_r = {v:k for k,v in colmap.items()}\n",
    "\n",
    "noheader = raw_data[1:]"
   ]
  },
  {
   "cell_type": "markdown",
   "metadata": {},
   "source": [
    "## A medical claim is denoted by a claim number ('Claim.Number'). Each claim consists of one or more medical lines denoted by a claim line number ('Claim.Line.Number').\n",
    "\n",
    "### 1. J-codes are procedure codes that start with the letter 'J'."
   ]
  },
  {
   "cell_type": "markdown",
   "metadata": {},
   "source": [
    "     A. Find the number of claim lines that have J-codes."
   ]
  },
  {
   "cell_type": "code",
   "execution_count": 5,
   "metadata": {
    "collapsed": true
   },
   "outputs": [],
   "source": [
    "J_codes = 0\n",
    "J_idxs = []\n",
    "\n",
    "for rownum, row in enumerate(noheader):\n",
    "#     print(row[colmap[\"Procedure.Code\"]])\n",
    "    try:\n",
    "        if row[colmap['Procedure.Code']][0] == 'J':\n",
    "            J_codes += 1\n",
    "            J_idxs.append(rownum)\n",
    "    except IndexError:\n",
    "        continue"
   ]
  },
  {
   "cell_type": "code",
   "execution_count": 6,
   "metadata": {},
   "outputs": [
    {
     "name": "stdout",
     "output_type": "stream",
     "text": [
      "The number of J-Codes is:  51029\n"
     ]
    }
   ],
   "source": [
    "print(\"The number of J-Codes is: \", J_codes)"
   ]
  },
  {
   "cell_type": "markdown",
   "metadata": {},
   "source": [
    "    B. How much was paid for J-codes to providers for 'in network' claims?"
   ]
  },
  {
   "cell_type": "code",
   "execution_count": 7,
   "metadata": {
    "collapsed": true
   },
   "outputs": [],
   "source": [
    "total_payment = 0\n",
    "\n",
    "for rownum in J_idxs:\n",
    "    total_payment += float(noheader[rownum][colmap[\"Provider.Payment.Amount\"]])"
   ]
  },
  {
   "cell_type": "code",
   "execution_count": 8,
   "metadata": {},
   "outputs": [
    {
     "data": {
      "text/plain": [
       "2418429.5728249843"
      ]
     },
     "execution_count": 8,
     "metadata": {},
     "output_type": "execute_result"
    }
   ],
   "source": [
    "total_payment"
   ]
  },
  {
   "cell_type": "markdown",
   "metadata": {},
   "source": [
    "     C. What are the top five J-codes based on the payment to providers?"
   ]
  },
  {
   "cell_type": "code",
   "execution_count": 9,
   "metadata": {
    "collapsed": true
   },
   "outputs": [],
   "source": [
    "codes_map = {}\n",
    "\n",
    "for rownum in J_idxs:\n",
    "    try:\n",
    "        codes_map[noheader[rownum][colmap[\"Procedure.Code\"]]] += \\\n",
    "                  float(noheader[rownum][colmap[\"Provider.Payment.Amount\"]])\n",
    "    except KeyError:\n",
    "        codes_map[noheader[rownum][colmap[\"Procedure.Code\"]]] = \\\n",
    "                  float(noheader[rownum][colmap[\"Provider.Payment.Amount\"]])\n",
    "            \n",
    "codes_inv = {v:k for k,v in codes_map.items()}"
   ]
  },
  {
   "cell_type": "code",
   "execution_count": 10,
   "metadata": {},
   "outputs": [
    {
     "name": "stdout",
     "output_type": "stream",
     "text": [
      "The Top 5 J codes are... \n",
      "J1644  :  81909.39601500003\n",
      "J3490  :  90249.91244999997\n",
      "J9310  :  168630.87357999996\n",
      "J0180  :  299776.56076499994\n",
      "J1745  :  434232.08058999997\n"
     ]
    }
   ],
   "source": [
    "print(\"The Top 5 J codes are... \")\n",
    "for val in sorted(codes_map.values())[-5:]:\n",
    "    print(codes_inv[val], \" : \", val)"
   ]
  },
  {
   "cell_type": "markdown",
   "metadata": {},
   "source": [
    "### 2. For the following exercises, determine the number of providers that were paid for at least one J-code. Use the J-code claims for these providers to complete the following exercises.\n",
    "\n",
    "    A. Create a scatter plot that displays the number of unpaid claims (lines where the ‘Provider.Payment.Amount’ field is equal to zero) for each provider versus the number of paid claims.    "
   ]
  },
  {
   "cell_type": "code",
   "execution_count": 11,
   "metadata": {
    "collapsed": true
   },
   "outputs": [],
   "source": [
    "jdf = [noheader[idx] for idx in J_idxs]"
   ]
  },
  {
   "cell_type": "code",
   "execution_count": 12,
   "metadata": {
    "collapsed": true
   },
   "outputs": [],
   "source": [
    "unpaid_claims = Counter()\n",
    "paid_claims = Counter()\n",
    "\n",
    "for row in jdf:\n",
    "    if int(float(row[colmap[\"Provider.Payment.Amount\"]])) == 0:\n",
    "        unpaid_claims[row[colmap[\"Provider.ID\"]]] += 1\n",
    "    else:\n",
    "        paid_claims[row[colmap[\"Provider.ID\"]]] += 1"
   ]
  },
  {
   "cell_type": "code",
   "execution_count": 13,
   "metadata": {},
   "outputs": [
    {
     "name": "stdout",
     "output_type": "stream",
     "text": [
      "15\n",
      "13\n"
     ]
    }
   ],
   "source": [
    "print(len(unpaid_claims.keys()))\n",
    "print(len(paid_claims.keys()))"
   ]
  },
  {
   "cell_type": "code",
   "execution_count": 14,
   "metadata": {
    "collapsed": true
   },
   "outputs": [],
   "source": [
    "x = [paid_claims[k] for k in unpaid_claims.keys()]\n",
    "y = [unpaid_claims[k] for k in unpaid_claims.keys()]"
   ]
  },
  {
   "cell_type": "code",
   "execution_count": 15,
   "metadata": {},
   "outputs": [
    {
     "data": {
      "text/plain": [
       "(-5, 15000)"
      ]
     },
     "execution_count": 15,
     "metadata": {},
     "output_type": "execute_result"
    }
   ],
   "source": [
    "fig, ax = plt.subplots(1,1, figsize=(15,15))\n",
    "ax.scatter(x, y);\n",
    "ax.set_title(\"Paid Claims vs Unpaid Claims\")\n",
    "ax.set_xlabel(\"Paid Claims\")\n",
    "ax.set_ylabel(\"Unpaid Claims\")\n",
    "ax.set_ylim(-5,15000)\n",
    "ax.set_xlim(-5,15000)"
   ]
  },
  {
   "cell_type": "markdown",
   "metadata": {},
   "source": [
    "    B. What insights can you suggest from the graph?"
   ]
  },
  {
   "cell_type": "raw",
   "metadata": {},
   "source": [
    "There apears to be a somewhat linear relationship between the number of Paid claims and the number of unpaid claims, but in almost all cases, unpaid claims outnumber paid claims significently."
   ]
  },
  {
   "cell_type": "markdown",
   "metadata": {},
   "source": [
    "    C. Based on the graph, is the behavior of any of the providers concerning? Explain."
   ]
  },
  {
   "cell_type": "raw",
   "metadata": {},
   "source": [
    "Based on the graph, it appears that most providers have significently more unpaid claims then paid, claims, this would seem to be an indication that this buisness is not equitable"
   ]
  },
  {
   "cell_type": "markdown",
   "metadata": {},
   "source": [
    "### 3. Consider all claim lines with a J-code.\n",
    "\n",
    "    A. What percentage of J-code claim lines were unpaid?"
   ]
  },
  {
   "cell_type": "code",
   "execution_count": 16,
   "metadata": {
    "collapsed": true
   },
   "outputs": [],
   "source": [
    "unpaid_count = 0\n",
    "paid_count = 0\n",
    "\n",
    "for row in jdf:\n",
    "    if int(float(row[colmap[\"Provider.Payment.Amount\"]])) == 0:\n",
    "        unpaid_count += 1\n",
    "    else:\n",
    "        paid_count += 1"
   ]
  },
  {
   "cell_type": "code",
   "execution_count": 17,
   "metadata": {},
   "outputs": [
    {
     "name": "stdout",
     "output_type": "stream",
     "text": [
      "88.30% of all claims were unpaid\n"
     ]
    }
   ],
   "source": [
    "print(\"{:.2f}% of all claims were unpaid\".format(unpaid_count / (unpaid_count + paid_count) * 100))"
   ]
  },
  {
   "cell_type": "markdown",
   "metadata": {},
   "source": [
    "    B. Create a model to predict when a J-code is unpaid. Explain why you choose the modeling approach."
   ]
  },
  {
   "cell_type": "code",
   "execution_count": 18,
   "metadata": {
    "collapsed": true
   },
   "outputs": [],
   "source": [
    "model_cols = []\n",
    "\n",
    "numeric_cols = [\n",
    "    'Subscriber.Payment.Amount',\n",
    "    'Claim.Charge.Amount',\n",
    "]\n",
    "\n",
    "dummy_cols = {\n",
    "    \"Provider.ID\" : {},\n",
    "    \"Line.Of.Business.ID\" : {},\n",
    "    \"Service.Code\": {},\n",
    "    \"In.Out.Of.Network\" : {},\n",
    "    \"Network.ID\": {},\n",
    "    \"Agreement.ID\" : {},\n",
    "    \"Price.Index\": {},\n",
    "    \"Claim.Type\": {},\n",
    "    \"Procedure.Code\": {},\n",
    "    \"Revenue.Code\": {}\n",
    "}\n",
    "\n",
    "for rownum, row in enumerate(jdf):\n",
    "    for col in dummy_cols.keys():\n",
    "        try:\n",
    "            dummy_cols[col][rownum].add(row[colmap[col]])\n",
    "        except KeyError:\n",
    "            dummy_cols[col][row[colmap[col]]] = {rownum}"
   ]
  },
  {
   "cell_type": "code",
   "execution_count": 19,
   "metadata": {
    "collapsed": true
   },
   "outputs": [],
   "source": [
    "for colname, dumdict in dummy_cols.items():\n",
    "    for dummy in dumdict.keys():\n",
    "        model_cols.append(\"{}${}\".format(colname, dummy))"
   ]
  },
  {
   "cell_type": "code",
   "execution_count": 20,
   "metadata": {
    "collapsed": true
   },
   "outputs": [],
   "source": [
    "model_df = []\n",
    "\n",
    "for idx, row in enumerate(jdf):\n",
    "    ith_row = []\n",
    "    for colname in model_cols:\n",
    "        col, val = colname.split(\"$\")\n",
    "        if idx in dummy_cols[col][val]:\n",
    "            ith_row.append(1)\n",
    "        else:\n",
    "            ith_row.append(0)\n",
    "    for numeric in numeric_cols:\n",
    "        ith_row.append(float(row[colmap[numeric]]))\n",
    "    if float(row[colmap[\"Provider.Payment.Amount\"]]) > 0.00:\n",
    "        ith_row.append(0.0)\n",
    "    else:\n",
    "        ith_row.append(1.0)\n",
    "#     ith_row.append(float(row[colmap[\"Provider.Payment.Amount\"]]) > 0)\n",
    "    model_df.append(ith_row)"
   ]
  },
  {
   "cell_type": "code",
   "execution_count": 21,
   "metadata": {
    "collapsed": true
   },
   "outputs": [],
   "source": [
    "for numeric_col in numeric_cols:\n",
    "    model_cols.append(numeric_col)"
   ]
  },
  {
   "cell_type": "code",
   "execution_count": 22,
   "metadata": {},
   "outputs": [],
   "source": [
    "np_df = np.array(model_df)"
   ]
  },
  {
   "cell_type": "code",
   "execution_count": 23,
   "metadata": {
    "collapsed": true
   },
   "outputs": [],
   "source": [
    "true_vals = np_df[np_df[:,-1] == 1.0]\n",
    "false_vals = np_df[np_df[:,-1] == 0.0]"
   ]
  },
  {
   "cell_type": "code",
   "execution_count": 24,
   "metadata": {
    "collapsed": true
   },
   "outputs": [],
   "source": [
    "np.random.shuffle(true_vals)"
   ]
  },
  {
   "cell_type": "code",
   "execution_count": 25,
   "metadata": {
    "collapsed": true
   },
   "outputs": [],
   "source": [
    "b_df = np.concatenate([false_vals, true_vals[:false_vals.shape[0]]])"
   ]
  },
  {
   "cell_type": "code",
   "execution_count": 26,
   "metadata": {
    "collapsed": true
   },
   "outputs": [],
   "source": [
    "np.random.shuffle(b_df)"
   ]
  },
  {
   "cell_type": "code",
   "execution_count": 27,
   "metadata": {},
   "outputs": [
    {
     "data": {
      "text/plain": [
       "array([[   0.     ,    0.     ,    0.     , ...,    0.     ,  135.0296 ,\n",
       "           1.     ],\n",
       "       [   0.     ,    0.     ,    0.     , ...,    0.     ,  493.8    ,\n",
       "           1.     ],\n",
       "       [   0.     ,    0.     ,    0.     , ...,    0.     ,  213.51912,\n",
       "           1.     ],\n",
       "       ..., \n",
       "       [   0.     ,    0.     ,    0.     , ...,    0.     ,  135.17775,\n",
       "           1.     ],\n",
       "       [   0.     ,    0.     ,    0.     , ...,    0.     ,  238.2585 ,\n",
       "           1.     ],\n",
       "       [   0.     ,    0.     ,    0.     , ...,    0.     ,  314.1185 ,\n",
       "           0.     ]])"
      ]
     },
     "execution_count": 27,
     "metadata": {},
     "output_type": "execute_result"
    }
   ],
   "source": [
    "b_df[:20]"
   ]
  },
  {
   "cell_type": "code",
   "execution_count": 26,
   "metadata": {
    "collapsed": true
   },
   "outputs": [],
   "source": [
    "vals = np.random.random(b_df.shape[0])\n",
    "folds = [vals < .2,\n",
    "         ((vals >= .2) & (vals < .4)),\n",
    "         ((vals >= .4) & (vals < .6)),\n",
    "         ((vals >= .6) & (vals < .8)),\n",
    "         vals >= .8]"
   ]
  },
  {
   "cell_type": "code",
   "execution_count": 27,
   "metadata": {
    "collapsed": true
   },
   "outputs": [],
   "source": [
    "from sklearn.ensemble import RandomForestClassifier\n",
    "from xgboost import XGBClassifier\n",
    "from sklearn.linear_model import LogisticRegression\n",
    "from sklearn.svm import SVC"
   ]
  },
  {
   "cell_type": "code",
   "execution_count": 28,
   "metadata": {},
   "outputs": [
    {
     "name": "stdout",
     "output_type": "stream",
     "text": [
      "LogisticRegression\n",
      "\t 0.512106788079\n",
      "\t 0.51343314192\n",
      "\t 0.512852276247\n",
      "\t 0.495628921115\n",
      "\t 0.515126569253\n",
      "Random Forest Classifier\n",
      "\t 0.618687913907\n",
      "\t 0.625102543068\n",
      "\t 0.613296170125\n",
      "\t 0.623161575645\n",
      "\t 0.621012554023\n",
      "XG Boost Classifier\n",
      "\t 0.603166390728\n",
      "\t 0.604901558655\n",
      "\t 0.598327655621\n",
      "\t 0.599814871953\n",
      "\t 0.601564107841\n",
      "Support Vector Classifier\n",
      "\t 0.567570364238\n",
      "\t 0.561320754717\n",
      "\t 0.54588623929\n",
      "\t 0.557441118996\n",
      "\t 0.564210742951\n"
     ]
    }
   ],
   "source": [
    "print(\"LogisticRegression\")\n",
    "for fold in np.arange(len(folds)):\n",
    "    model = LogisticRegression()\n",
    "    model.fit(b_df[folds[fold], :-1], b_df[folds[fold], -1])\n",
    "    predictions = model.predict(b_df[~folds[fold],:-1])\n",
    "    print(\"\\t\", (predictions == b_df[~folds[fold],-1]).sum() / b_df[~folds[fold]].shape[0])\n",
    "\n",
    "print(\"Random Forest Classifier\")\n",
    "for fold in np.arange(len(folds)):\n",
    "    model = RandomForestClassifier(n_estimators=500, n_jobs=-1)\n",
    "    model.fit(b_df[folds[fold], :-1], b_df[folds[fold], -1])\n",
    "    predictions = model.predict(b_df[~folds[fold],:-1])\n",
    "    print(\"\\t\", (predictions == b_df[~folds[fold],-1]).sum() / b_df[~folds[fold]].shape[0])\n",
    "    \n",
    "print(\"XG Boost Classifier\")\n",
    "for fold in np.arange(len(folds)):\n",
    "    model = XGBClassifier(max_depth=5, n_estimators=500, n_jobs=-1)\n",
    "    model.fit(b_df[folds[fold], :-1], b_df[folds[fold], -1])\n",
    "    predictions = model.predict(b_df[~folds[fold],:-1])\n",
    "    print(\"\\t\", (predictions == b_df[~folds[fold],-1]).sum() / b_df[~folds[fold]].shape[0])\n",
    "    \n",
    "print(\"Support Vector Classifier\")\n",
    "for fold in np.arange(len(folds)):\n",
    "    model = SVC(degree=5)\n",
    "    model.fit(b_df[folds[fold], :-1], b_df[folds[fold], -1])\n",
    "    predictions = model.predict(b_df[~folds[fold],:-1])\n",
    "    print(\"\\t\", (predictions == b_df[~folds[fold],-1]).sum() / b_df[~folds[fold]].shape[0])"
   ]
  },
  {
   "cell_type": "markdown",
   "metadata": {},
   "source": [
    "\n",
    "    C. How accurate is your model at predicting unpaid claims?"
   ]
  },
  {
   "cell_type": "raw",
   "metadata": {},
   "source": [
    "The model is not very accurate, Logistic Regression is about equal to a coin flip, but Random Forest seems to get around 62% accuracy on a balanced class"
   ]
  },
  {
   "cell_type": "markdown",
   "metadata": {},
   "source": [
    "    D. What data attributes are predominately influencing the rate of non-payment?"
   ]
  },
  {
   "cell_type": "code",
   "execution_count": 424,
   "metadata": {},
   "outputs": [
    {
     "data": {
      "text/plain": [
       "Index(['Claim.Number', 'Claim.Line.Number', 'Member.ID', 'Provider.ID',\n",
       "       'Line.Of.Business.ID', 'Revenue.Code', 'Service.Code',\n",
       "       'Place.Of.Service.Code', 'Procedure.Code', 'Diagnosis.Code',\n",
       "       'Claim.Charge.Amount', 'Denial.Reason.Code', 'Price.Index',\n",
       "       'In.Out.Of.Network', 'Reference.Index', 'Pricing.Index',\n",
       "       'Capitation.Index', 'Subscriber.Payment.Amount',\n",
       "       'Provider.Payment.Amount', 'Group.Index', 'Subscriber.Index',\n",
       "       'Subgroup.Index', 'Claim.Type', 'Claim.Subscriber.Type',\n",
       "       'Claim.Pre.Prince.Index', 'Claim.Current.Status', 'Network.ID',\n",
       "       'Agreement.ID'],\n",
       "      dtype='object')"
      ]
     },
     "execution_count": 424,
     "metadata": {},
     "output_type": "execute_result"
    }
   ],
   "source": [
    "df.columns"
   ]
  },
  {
   "cell_type": "code",
   "execution_count": 33,
   "metadata": {
    "collapsed": true
   },
   "outputs": [],
   "source": [
    "gs = GridSearch(b_df[:,:-1], b_df[:,-1])"
   ]
  },
  {
   "cell_type": "code",
   "execution_count": 53,
   "metadata": {},
   "outputs": [
    {
     "ename": "ValueError",
     "evalue": "cannot reshape array of size 127 into shape (10,10)",
     "output_type": "error",
     "traceback": [
      "\u001b[0;31m---------------------------------------------------------------------------\u001b[0m",
      "\u001b[0;31mValueError\u001b[0m                                Traceback (most recent call last)",
      "\u001b[0;32m<ipython-input-53-d4f943d4cb82>\u001b[0m in \u001b[0;36m<module>\u001b[0;34m()\u001b[0m\n\u001b[0;32m----> 1\u001b[0;31m \u001b[0mgs\u001b[0m\u001b[0;34m.\u001b[0m\u001b[0moptimize_model\u001b[0m\u001b[0;34m(\u001b[0m\u001b[0;34m'xgboost'\u001b[0m\u001b[0;34m)\u001b[0m\u001b[0;34m\u001b[0m\u001b[0m\n\u001b[0m",
      "\u001b[0;32m/Users/travis/Documents/smucode/DS7335/hwk1/DeathtoGridSearch.py\u001b[0m in \u001b[0;36moptimize_model\u001b[0;34m(self, model_idx, min_params)\u001b[0m\n\u001b[1;32m    521\u001b[0m               \u001b[0mself\u001b[0m\u001b[0;34m.\u001b[0m\u001b[0mmodels\u001b[0m\u001b[0;34m[\u001b[0m\u001b[0mmodel_idx\u001b[0m\u001b[0;34m]\u001b[0m\u001b[0;34m.\u001b[0m\u001b[0mnumeric_state\u001b[0m\u001b[0;34m[\u001b[0m\u001b[0;36m1\u001b[0m\u001b[0;34m]\u001b[0m \u001b[0;34m=\u001b[0m \u001b[0mx_idx\u001b[0m\u001b[0;34m\u001b[0m\u001b[0m\n\u001b[1;32m    522\u001b[0m               \u001b[0mself\u001b[0m\u001b[0;34m.\u001b[0m\u001b[0mrun_one_model\u001b[0m\u001b[0;34m(\u001b[0m\u001b[0mmodel_idx\u001b[0m\u001b[0;34m)\u001b[0m\u001b[0;34m\u001b[0m\u001b[0m\n\u001b[0;32m--> 523\u001b[0;31m \u001b[0;34m\u001b[0m\u001b[0m\n\u001b[0m\u001b[1;32m    524\u001b[0m         \u001b[0mauc_mtrx\u001b[0m \u001b[0;34m=\u001b[0m \u001b[0mself\u001b[0m\u001b[0;34m.\u001b[0m\u001b[0mresults_auc\u001b[0m\u001b[0;34m[\u001b[0m\u001b[0mmodel_idx\u001b[0m\u001b[0;34m]\u001b[0m\u001b[0;34m\u001b[0m\u001b[0m\n\u001b[1;32m    525\u001b[0m         \u001b[0mmtrx\u001b[0m \u001b[0;34m=\u001b[0m \u001b[0mauc_mtrx\u001b[0m\u001b[0;34m[\u001b[0m\u001b[0mauc_mtrx\u001b[0m \u001b[0;34m>\u001b[0m \u001b[0;36m0\u001b[0m\u001b[0;34m]\u001b[0m\u001b[0;34m.\u001b[0m\u001b[0mreshape\u001b[0m\u001b[0;34m(\u001b[0m\u001b[0mlen\u001b[0m\u001b[0;34m(\u001b[0m\u001b[0ms_y\u001b[0m\u001b[0;34m)\u001b[0m\u001b[0;34m,\u001b[0m \u001b[0mlen\u001b[0m\u001b[0;34m(\u001b[0m\u001b[0ms_x\u001b[0m\u001b[0;34m)\u001b[0m\u001b[0;34m)\u001b[0m\u001b[0;34m\u001b[0m\u001b[0m\n",
      "\u001b[0;31mValueError\u001b[0m: cannot reshape array of size 127 into shape (10,10)"
     ]
    }
   ],
   "source": [
    "gs.optimize_model('xgboost')"
   ]
  },
  {
   "cell_type": "code",
   "execution_count": 54,
   "metadata": {
    "collapsed": true
   },
   "outputs": [],
   "source": [
    "m = gs.models['xgboost']"
   ]
  },
  {
   "cell_type": "code",
   "execution_count": 58,
   "metadata": {},
   "outputs": [
    {
     "data": {
      "text/plain": [
       "{'max_depth': array([ 1,  4,  7, 10, 13, 16, 19, 22, 25, 28, 31, 34, 37, 40, 43, 46, 49]),\n",
       " 'n_estimators': array([   1,    1,    1,    2,    3,    4,    5,    7,   10,   13,   17,\n",
       "          23,   32,   42,   57,   76,  101,  135,  181,  241,  322,  430,\n",
       "         574,  767, 1024])}"
      ]
     },
     "execution_count": 58,
     "metadata": {},
     "output_type": "execute_result"
    }
   ],
   "source": [
    "m.tuning_options"
   ]
  },
  {
   "cell_type": "code",
   "execution_count": 57,
   "metadata": {},
   "outputs": [
    {
     "data": {
      "text/plain": [
       "{'max_depth': 49, 'n_estimators': 1024}"
      ]
     },
     "execution_count": 57,
     "metadata": {},
     "output_type": "execute_result"
    }
   ],
   "source": [
    "m.tuning_state"
   ]
  },
  {
   "cell_type": "code",
   "execution_count": null,
   "metadata": {
    "collapsed": true
   },
   "outputs": [],
   "source": [
    "gs.save_results()"
   ]
  },
  {
   "cell_type": "code",
   "execution_count": 34,
   "metadata": {},
   "outputs": [
    {
     "name": "stderr",
     "output_type": "stream",
     "text": [
      "/Users/travis/Documents/smucode/DS7335/hwk1/DeathtoGridSearch.py:387: RuntimeWarning: invalid value encountered in true_divide\n",
      "  recs.append( float(tp) / (tp + fn) )\n",
      "/Users/travis/Documents/smucode/DS7335/hwk1/DeathtoGridSearch.py:387: RuntimeWarning: invalid value encountered in true_divide\n",
      "  recs.append( float(tp) / (tp + fn) )\n",
      "/Users/travis/Documents/smucode/DS7335/hwk1/DeathtoGridSearch.py:387: RuntimeWarning: invalid value encountered in true_divide\n",
      "  recs.append( float(tp) / (tp + fn) )\n",
      "/Users/travis/Documents/smucode/DS7335/hwk1/DeathtoGridSearch.py:387: RuntimeWarning: invalid value encountered in true_divide\n",
      "  recs.append( float(tp) / (tp + fn) )\n",
      "/Users/travis/Documents/smucode/DS7335/hwk1/DeathtoGridSearch.py:387: RuntimeWarning: invalid value encountered in true_divide\n",
      "  recs.append( float(tp) / (tp + fn) )\n",
      "/Users/travis/Documents/smucode/DS7335/hwk1/DeathtoGridSearch.py:387: RuntimeWarning: invalid value encountered in true_divide\n",
      "  recs.append( float(tp) / (tp + fn) )\n",
      "/Users/travis/Documents/smucode/DS7335/hwk1/DeathtoGridSearch.py:387: RuntimeWarning: invalid value encountered in true_divide\n",
      "  recs.append( float(tp) / (tp + fn) )\n",
      "/Users/travis/Documents/smucode/DS7335/hwk1/DeathtoGridSearch.py:387: RuntimeWarning: invalid value encountered in true_divide\n",
      "  recs.append( float(tp) / (tp + fn) )\n",
      "/Users/travis/Documents/smucode/DS7335/hwk1/DeathtoGridSearch.py:387: RuntimeWarning: invalid value encountered in true_divide\n",
      "  recs.append( float(tp) / (tp + fn) )\n",
      "/Users/travis/Documents/smucode/DS7335/hwk1/DeathtoGridSearch.py:387: RuntimeWarning: invalid value encountered in true_divide\n",
      "  recs.append( float(tp) / (tp + fn) )\n",
      "/Users/travis/Documents/smucode/DS7335/hwk1/DeathtoGridSearch.py:387: RuntimeWarning: invalid value encountered in true_divide\n",
      "  recs.append( float(tp) / (tp + fn) )\n",
      "/Users/travis/Documents/smucode/DS7335/hwk1/DeathtoGridSearch.py:387: RuntimeWarning: invalid value encountered in true_divide\n",
      "  recs.append( float(tp) / (tp + fn) )\n"
     ]
    },
    {
     "ename": "IndexError",
     "evalue": "index 17 is out of bounds for axis 0 with size 17",
     "output_type": "error",
     "traceback": [
      "\u001b[0;31m---------------------------------------------------------------------------\u001b[0m",
      "\u001b[0;31mIndexError\u001b[0m                                Traceback (most recent call last)",
      "\u001b[0;32m<ipython-input-34-d956d99aa294>\u001b[0m in \u001b[0;36m<module>\u001b[0;34m()\u001b[0m\n\u001b[0;32m----> 1\u001b[0;31m \u001b[0mgs\u001b[0m\u001b[0;34m.\u001b[0m\u001b[0moptimize_all_models\u001b[0m\u001b[0;34m(\u001b[0m\u001b[0;34m)\u001b[0m\u001b[0;34m\u001b[0m\u001b[0m\n\u001b[0m\u001b[1;32m      2\u001b[0m \u001b[0mgs\u001b[0m\u001b[0;34m.\u001b[0m\u001b[0msave_results\u001b[0m\u001b[0;34m(\u001b[0m\u001b[0;34m)\u001b[0m\u001b[0;34m\u001b[0m\u001b[0m\n",
      "\u001b[0;32m/Users/travis/Documents/smucode/DS7335/hwk1/DeathtoGridSearch.py\u001b[0m in \u001b[0;36moptimize_all_models\u001b[0;34m(self)\u001b[0m\n\u001b[1;32m    325\u001b[0m         \u001b[0;32mfor\u001b[0m \u001b[0mm_name\u001b[0m \u001b[0;32min\u001b[0m \u001b[0mself\u001b[0m\u001b[0;34m.\u001b[0m\u001b[0mmodels\u001b[0m\u001b[0;34m.\u001b[0m\u001b[0mkeys\u001b[0m\u001b[0;34m(\u001b[0m\u001b[0;34m)\u001b[0m\u001b[0;34m:\u001b[0m\u001b[0;34m\u001b[0m\u001b[0m\n\u001b[1;32m    326\u001b[0m             \u001b[0;31m# print(m_name)\u001b[0m\u001b[0;34m\u001b[0m\u001b[0;34m\u001b[0m\u001b[0m\n\u001b[0;32m--> 327\u001b[0;31m             \u001b[0mself\u001b[0m\u001b[0;34m.\u001b[0m\u001b[0moptimize_model\u001b[0m\u001b[0;34m(\u001b[0m\u001b[0mm_name\u001b[0m\u001b[0;34m)\u001b[0m\u001b[0;34m\u001b[0m\u001b[0m\n\u001b[0m\u001b[1;32m    328\u001b[0m \u001b[0;34m\u001b[0m\u001b[0m\n\u001b[1;32m    329\u001b[0m     \u001b[0;32mdef\u001b[0m \u001b[0moutput_auc_plot\u001b[0m\u001b[0;34m(\u001b[0m\u001b[0mself\u001b[0m\u001b[0;34m,\u001b[0m \u001b[0mmodel_idx\u001b[0m\u001b[0;34m,\u001b[0m \u001b[0mresults\u001b[0m\u001b[0;34m)\u001b[0m\u001b[0;34m:\u001b[0m\u001b[0;34m\u001b[0m\u001b[0m\n",
      "\u001b[0;32m/Users/travis/Documents/smucode/DS7335/hwk1/DeathtoGridSearch.py\u001b[0m in \u001b[0;36moptimize_model\u001b[0;34m(self, model_idx, min_params)\u001b[0m\n\u001b[1;32m    527\u001b[0m                     \u001b[0mself\u001b[0m\u001b[0;34m.\u001b[0m\u001b[0mfill_missing\u001b[0m\u001b[0;34m(\u001b[0m\u001b[0mmodel_idx\u001b[0m\u001b[0;34m,\u001b[0m \u001b[0;34m'col'\u001b[0m\u001b[0;34m,\u001b[0m \u001b[0mc\u001b[0m\u001b[0;34m,\u001b[0m \u001b[0mmtrx\u001b[0m\u001b[0;34m[\u001b[0m\u001b[0mr\u001b[0m\u001b[0;34m-\u001b[0m\u001b[0;36m1\u001b[0m\u001b[0;34m,\u001b[0m \u001b[0mc\u001b[0m\u001b[0;34m]\u001b[0m\u001b[0;34m,\u001b[0m \u001b[0mmtrx\u001b[0m\u001b[0;34m[\u001b[0m\u001b[0mr\u001b[0m \u001b[0;34m+\u001b[0m \u001b[0;36m1\u001b[0m\u001b[0;34m,\u001b[0m \u001b[0mc\u001b[0m\u001b[0;34m]\u001b[0m\u001b[0;34m)\u001b[0m\u001b[0;34m\u001b[0m\u001b[0m\n\u001b[1;32m    528\u001b[0m                 \u001b[0;32mif\u001b[0m \u001b[0mmtrx\u001b[0m\u001b[0;34m[\u001b[0m\u001b[0mr\u001b[0m\u001b[0;34m,\u001b[0m \u001b[0mc\u001b[0m\u001b[0;34m-\u001b[0m\u001b[0;36m1\u001b[0m\u001b[0;34m]\u001b[0m \u001b[0;34m>\u001b[0m \u001b[0mmtrx\u001b[0m\u001b[0;34m[\u001b[0m\u001b[0mr\u001b[0m\u001b[0;34m,\u001b[0m \u001b[0mc\u001b[0m\u001b[0;34m]\u001b[0m \u001b[0;32mand\u001b[0m \u001b[0mmtrx\u001b[0m\u001b[0;34m[\u001b[0m\u001b[0mr\u001b[0m\u001b[0;34m,\u001b[0m \u001b[0mc\u001b[0m\u001b[0;34m]\u001b[0m \u001b[0;34m<\u001b[0m \u001b[0mmtrx\u001b[0m\u001b[0;34m[\u001b[0m\u001b[0mr\u001b[0m\u001b[0;34m,\u001b[0m \u001b[0mc\u001b[0m \u001b[0;34m+\u001b[0m \u001b[0;36m1\u001b[0m\u001b[0;34m]\u001b[0m\u001b[0;34m:\u001b[0m\u001b[0;34m\u001b[0m\u001b[0m\n\u001b[0;32m--> 529\u001b[0;31m                     \u001b[0mself\u001b[0m\u001b[0;34m.\u001b[0m\u001b[0mfill_missing\u001b[0m\u001b[0;34m(\u001b[0m\u001b[0mmodel_idx\u001b[0m\u001b[0;34m,\u001b[0m \u001b[0;34m'row'\u001b[0m\u001b[0;34m,\u001b[0m \u001b[0mr\u001b[0m\u001b[0;34m,\u001b[0m \u001b[0mmtrx\u001b[0m\u001b[0;34m[\u001b[0m\u001b[0mr\u001b[0m\u001b[0;34m,\u001b[0m \u001b[0mc\u001b[0m\u001b[0;34m-\u001b[0m\u001b[0;36m1\u001b[0m\u001b[0;34m]\u001b[0m\u001b[0;34m,\u001b[0m \u001b[0mmtrx\u001b[0m\u001b[0;34m[\u001b[0m\u001b[0mr\u001b[0m\u001b[0;34m,\u001b[0m \u001b[0mc\u001b[0m \u001b[0;34m+\u001b[0m \u001b[0;36m1\u001b[0m\u001b[0;34m]\u001b[0m\u001b[0;34m)\u001b[0m\u001b[0;34m\u001b[0m\u001b[0m\n\u001b[0m\u001b[1;32m    530\u001b[0m \u001b[0;34m\u001b[0m\u001b[0m\n\u001b[1;32m    531\u001b[0m     \u001b[0;32mdef\u001b[0m \u001b[0mrun_one_model\u001b[0m\u001b[0;34m(\u001b[0m\u001b[0mself\u001b[0m\u001b[0;34m,\u001b[0m \u001b[0mmodel_idx\u001b[0m\u001b[0;34m)\u001b[0m\u001b[0;34m:\u001b[0m\u001b[0;34m\u001b[0m\u001b[0m\n",
      "\u001b[0;32m/Users/travis/Documents/smucode/DS7335/hwk1/DeathtoGridSearch.py\u001b[0m in \u001b[0;36mfill_missing\u001b[0;34m(self, model_idx, row_col, num, prev, nxt, row)\u001b[0m\n\u001b[1;32m    484\u001b[0m             \u001b[0;32mfor\u001b[0m \u001b[0mcol\u001b[0m \u001b[0;32min\u001b[0m \u001b[0mrange\u001b[0m\u001b[0;34m(\u001b[0m\u001b[0midx_min_x\u001b[0m \u001b[0;34m+\u001b[0m \u001b[0;36m1\u001b[0m\u001b[0;34m,\u001b[0m \u001b[0midx_max_x\u001b[0m \u001b[0;34m-\u001b[0m \u001b[0;36m1\u001b[0m\u001b[0;34m)\u001b[0m\u001b[0;34m:\u001b[0m\u001b[0;34m\u001b[0m\u001b[0m\n\u001b[1;32m    485\u001b[0m                 \u001b[0mself\u001b[0m\u001b[0;34m.\u001b[0m\u001b[0mmodels\u001b[0m\u001b[0;34m[\u001b[0m\u001b[0mmodel_idx\u001b[0m\u001b[0;34m]\u001b[0m\u001b[0;34m.\u001b[0m\u001b[0mnumeric_state\u001b[0m \u001b[0;34m=\u001b[0m \u001b[0;34m[\u001b[0m\u001b[0mnum\u001b[0m\u001b[0;34m,\u001b[0m \u001b[0mcol\u001b[0m\u001b[0;34m]\u001b[0m\u001b[0;34m\u001b[0m\u001b[0m\n\u001b[0;32m--> 486\u001b[0;31m                 \u001b[0mself\u001b[0m\u001b[0;34m.\u001b[0m\u001b[0mmodels\u001b[0m\u001b[0;34m[\u001b[0m\u001b[0mmodel_idx\u001b[0m\u001b[0;34m]\u001b[0m\u001b[0;34m.\u001b[0m\u001b[0mtuning_state\u001b[0m\u001b[0;34m[\u001b[0m\u001b[0mp_1\u001b[0m\u001b[0;34m]\u001b[0m \u001b[0;34m=\u001b[0m \u001b[0ms_1\u001b[0m\u001b[0;34m[\u001b[0m\u001b[0mcol\u001b[0m\u001b[0;34m]\u001b[0m\u001b[0;34m\u001b[0m\u001b[0m\n\u001b[0m\u001b[1;32m    487\u001b[0m                 \u001b[0mself\u001b[0m\u001b[0;34m.\u001b[0m\u001b[0mrun_one_model\u001b[0m\u001b[0;34m(\u001b[0m\u001b[0mmodel_idx\u001b[0m\u001b[0;34m)\u001b[0m\u001b[0;34m\u001b[0m\u001b[0m\n\u001b[1;32m    488\u001b[0m         \u001b[0;32melif\u001b[0m \u001b[0mrow_col\u001b[0m \u001b[0;34m==\u001b[0m \u001b[0;34m'col'\u001b[0m\u001b[0;34m:\u001b[0m\u001b[0;34m\u001b[0m\u001b[0m\n",
      "\u001b[0;31mIndexError\u001b[0m: index 17 is out of bounds for axis 0 with size 17"
     ]
    }
   ],
   "source": [
    "gs.optimize_all_models()\n",
    "gs.save_results()"
   ]
  },
  {
   "cell_type": "code",
   "execution_count": 36,
   "metadata": {},
   "outputs": [],
   "source": [
    "mod = gs.models['xgboost']"
   ]
  },
  {
   "cell_type": "code",
   "execution_count": 37,
   "metadata": {},
   "outputs": [
    {
     "data": {
      "text/plain": [
       "[7, 17]"
      ]
     },
     "execution_count": 37,
     "metadata": {},
     "output_type": "execute_result"
    }
   ],
   "source": [
    "mod.numeric_state"
   ]
  },
  {
   "cell_type": "code",
   "execution_count": 41,
   "metadata": {},
   "outputs": [
    {
     "name": "stdout",
     "output_type": "stream",
     "text": [
      "25\n",
      "17\n"
     ]
    }
   ],
   "source": [
    "for i in mod.tuning_options.values():\n",
    "    print(len(i))"
   ]
  },
  {
   "cell_type": "code",
   "execution_count": 43,
   "metadata": {},
   "outputs": [
    {
     "data": {
      "text/plain": [
       "25"
      ]
     },
     "execution_count": 43,
     "metadata": {},
     "output_type": "execute_result"
    }
   ],
   "source": [
    "gs.results_auc['xgboost'].shape[0]"
   ]
  },
  {
   "cell_type": "code",
   "execution_count": 47,
   "metadata": {},
   "outputs": [
    {
     "data": {
      "text/plain": [
       "17.0"
      ]
     },
     "execution_count": 47,
     "metadata": {},
     "output_type": "execute_result"
    }
   ],
   "source": [
    "gs.results_auc['xgboost'].size / 25"
   ]
  },
  {
   "cell_type": "code",
   "execution_count": 42,
   "metadata": {},
   "outputs": [
    {
     "data": {
      "text/plain": [
       "array([[ 0.51022554,  0.54872519,  0.        ,  0.60969983,  0.        ,\n",
       "         0.67062594,  0.        ,  0.69266807,  0.69250266,  0.        ,\n",
       "         0.69235156,  0.        ,  0.69235156,  0.        ,  0.69235156,\n",
       "         0.        ,  0.69235156],\n",
       "       [ 0.        ,  0.        ,  0.        ,  0.        ,  0.64672067,\n",
       "         0.67062594,  0.68527704,  0.69266807,  0.69250266,  0.        ,\n",
       "         0.        ,  0.        ,  0.        ,  0.        ,  0.        ,\n",
       "         0.        ,  0.        ],\n",
       "       [ 0.51022554,  0.54872519,  0.        ,  0.60969983,  0.64672067,\n",
       "         0.67062594,  0.68527704,  0.69266807,  0.69250266,  0.        ,\n",
       "         0.69235156,  0.        ,  0.69235156,  0.        ,  0.69235156,\n",
       "         0.        ,  0.69235156],\n",
       "       [ 0.        ,  0.        ,  0.        ,  0.        ,  0.64782892,\n",
       "         0.6748216 ,  0.68656942,  0.6909247 ,  0.69128735,  0.        ,\n",
       "         0.        ,  0.        ,  0.        ,  0.        ,  0.        ,\n",
       "         0.        ,  0.        ],\n",
       "       [ 0.        ,  0.        ,  0.        ,  0.62246922,  0.6589184 ,\n",
       "         0.67788124,  0.68796788,  0.69067973,  0.69100951,  0.        ,\n",
       "         0.        ,  0.        ,  0.        ,  0.        ,  0.        ,\n",
       "         0.        ,  0.        ],\n",
       "       [ 0.51395252,  0.56713225,  0.        ,  0.6283217 ,  0.66117374,\n",
       "         0.67816121,  0.6868152 ,  0.68996673,  0.69034841,  0.69029543,\n",
       "         0.69029543,  0.        ,  0.69029543,  0.        ,  0.69029543,\n",
       "         0.        ,  0.69029543],\n",
       "       [ 0.        ,  0.        ,  0.        ,  0.        ,  0.66406543,\n",
       "         0.6804723 ,  0.68890499,  0.69139127,  0.69197278,  0.69194103,\n",
       "         0.        ,  0.        ,  0.        ,  0.        ,  0.        ,\n",
       "         0.        ,  0.        ],\n",
       "       [ 0.        ,  0.        ,  0.        ,  0.        ,  0.        ,\n",
       "         0.        ,  0.        ,  0.        ,  0.        ,  0.        ,\n",
       "         0.        ,  0.        ,  0.        ,  0.        ,  0.        ,\n",
       "         0.        ,  0.        ],\n",
       "       [ 0.54488859,  0.58956988,  0.        ,  0.65156727,  0.        ,\n",
       "         0.68423942,  0.        ,  0.69364806,  0.69384641,  0.        ,\n",
       "         0.6937533 ,  0.        ,  0.69375082,  0.        ,  0.69375082,\n",
       "         0.        ,  0.69375082],\n",
       "       [ 0.        ,  0.        ,  0.        ,  0.        ,  0.        ,\n",
       "         0.        ,  0.        ,  0.        ,  0.        ,  0.        ,\n",
       "         0.        ,  0.        ,  0.        ,  0.        ,  0.        ,\n",
       "         0.        ,  0.        ],\n",
       "       [ 0.54595417,  0.60226895,  0.        ,  0.65960208,  0.        ,\n",
       "         0.68606257,  0.        ,  0.69459523,  0.69438462,  0.        ,\n",
       "         0.6944944 ,  0.        ,  0.69447736,  0.        ,  0.69447736,\n",
       "         0.        ,  0.69447736],\n",
       "       [ 0.        ,  0.        ,  0.        ,  0.        ,  0.        ,\n",
       "         0.        ,  0.        ,  0.        ,  0.        ,  0.        ,\n",
       "         0.        ,  0.        ,  0.        ,  0.        ,  0.        ,\n",
       "         0.        ,  0.        ],\n",
       "       [ 0.        ,  0.        ,  0.        ,  0.        ,  0.        ,\n",
       "         0.        ,  0.        ,  0.        ,  0.        ,  0.        ,\n",
       "         0.        ,  0.        ,  0.        ,  0.        ,  0.        ,\n",
       "         0.        ,  0.        ],\n",
       "       [ 0.55392496,  0.63248722,  0.        ,  0.68869666,  0.        ,\n",
       "         0.69692451,  0.        ,  0.6985502 ,  0.69843474,  0.        ,\n",
       "         0.69850093,  0.        ,  0.69839036,  0.        ,  0.69835083,\n",
       "         0.        ,  0.69837605],\n",
       "       [ 0.        ,  0.        ,  0.        ,  0.        ,  0.        ,\n",
       "         0.        ,  0.        ,  0.        ,  0.        ,  0.        ,\n",
       "         0.        ,  0.        ,  0.        ,  0.        ,  0.        ,\n",
       "         0.        ,  0.        ],\n",
       "       [ 0.        ,  0.        ,  0.        ,  0.        ,  0.        ,\n",
       "         0.        ,  0.        ,  0.        ,  0.        ,  0.        ,\n",
       "         0.        ,  0.        ,  0.        ,  0.        ,  0.        ,\n",
       "         0.        ,  0.        ],\n",
       "       [ 0.55858379,  0.65438752,  0.        ,  0.69290922,  0.        ,\n",
       "         0.69811601,  0.        ,  0.69864576,  0.69857319,  0.        ,\n",
       "         0.69852511,  0.        ,  0.69838132,  0.        ,  0.69843498,\n",
       "         0.        ,  0.69851302],\n",
       "       [ 0.        ,  0.        ,  0.        ,  0.        ,  0.        ,\n",
       "         0.        ,  0.        ,  0.        ,  0.        ,  0.        ,\n",
       "         0.        ,  0.        ,  0.        ,  0.        ,  0.        ,\n",
       "         0.        ,  0.        ],\n",
       "       [ 0.56486469,  0.6610951 ,  0.        ,  0.69256919,  0.        ,\n",
       "         0.69801599,  0.        ,  0.69857267,  0.69853149,  0.        ,\n",
       "         0.69839483,  0.        ,  0.69824173,  0.        ,  0.69832512,\n",
       "         0.        ,  0.69836617],\n",
       "       [ 0.        ,  0.        ,  0.        ,  0.        ,  0.        ,\n",
       "         0.        ,  0.        ,  0.        ,  0.        ,  0.        ,\n",
       "         0.        ,  0.        ,  0.        ,  0.        ,  0.        ,\n",
       "         0.        ,  0.        ],\n",
       "       [ 0.        ,  0.        ,  0.        ,  0.        ,  0.        ,\n",
       "         0.        ,  0.        ,  0.        ,  0.        ,  0.        ,\n",
       "         0.        ,  0.        ,  0.        ,  0.        ,  0.        ,\n",
       "         0.        ,  0.        ],\n",
       "       [ 0.57232623,  0.6727413 ,  0.        ,  0.69208037,  0.        ,\n",
       "         0.69762955,  0.        ,  0.6983991 ,  0.69832559,  0.        ,\n",
       "         0.69825301,  0.        ,  0.69810199,  0.        ,  0.69816369,\n",
       "         0.        ,  0.69821472],\n",
       "       [ 0.        ,  0.        ,  0.        ,  0.        ,  0.        ,\n",
       "         0.        ,  0.        ,  0.        ,  0.        ,  0.        ,\n",
       "         0.        ,  0.        ,  0.        ,  0.        ,  0.        ,\n",
       "         0.        ,  0.        ],\n",
       "       [ 0.        ,  0.        ,  0.        ,  0.        ,  0.        ,\n",
       "         0.        ,  0.        ,  0.        ,  0.        ,  0.        ,\n",
       "         0.        ,  0.        ,  0.        ,  0.        ,  0.        ,\n",
       "         0.        ,  0.        ],\n",
       "       [ 0.57224822,  0.67394341,  0.        ,  0.69181128,  0.        ,\n",
       "         0.69741453,  0.        ,  0.69799298,  0.69795793,  0.        ,\n",
       "         0.69790601,  0.        ,  0.69780252,  0.        ,  0.69782477,\n",
       "         0.        ,  0.69787132]])"
      ]
     },
     "execution_count": 42,
     "metadata": {},
     "output_type": "execute_result"
    }
   ],
   "source": [
    "gs.results_auc['xgboost']"
   ]
  },
  {
   "cell_type": "code",
   "execution_count": 51,
   "metadata": {},
   "outputs": [
    {
     "data": {
      "text/plain": [
       "5"
      ]
     },
     "execution_count": 51,
     "metadata": {},
     "output_type": "execute_result"
    }
   ],
   "source": [
    "35 % 10"
   ]
  },
  {
   "cell_type": "code",
   "execution_count": null,
   "metadata": {
    "collapsed": true
   },
   "outputs": [],
   "source": []
  }
 ],
 "metadata": {
  "kernelspec": {
   "display_name": "Python 3",
   "language": "python",
   "name": "python3"
  },
  "language_info": {
   "codemirror_mode": {
    "name": "ipython",
    "version": 3
   },
   "file_extension": ".py",
   "mimetype": "text/x-python",
   "name": "python",
   "nbconvert_exporter": "python",
   "pygments_lexer": "ipython3",
   "version": "3.6.1"
  }
 },
 "nbformat": 4,
 "nbformat_minor": 2
}
