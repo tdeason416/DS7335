{
 "cells": [
  {
   "cell_type": "code",
   "execution_count": 1,
   "metadata": {},
   "outputs": [],
   "source": [
    "import numpy as np\n",
    "import json\n",
    "import re\n",
    "import matplotlib.pyplot as plt\n",
    "from collections import Counter\n",
    "%matplotlib inline"
   ]
  },
  {
   "cell_type": "code",
   "execution_count": 2,
   "metadata": {
    "collapsed": true
   },
   "outputs": [],
   "source": [
    "import pandas as pd"
   ]
  },
  {
   "cell_type": "code",
   "execution_count": 3,
   "metadata": {
    "collapsed": true
   },
   "outputs": [],
   "source": [
    "raw_data = [re.sub(\"[^a-zA-Z0-9.,]\", \"\", i).split(',') for i in open(\"claim.sample.csv\").read().strip().split(\"\\n\")]"
   ]
  },
  {
   "cell_type": "code",
   "execution_count": 4,
   "metadata": {
    "collapsed": true
   },
   "outputs": [],
   "source": [
    "columns = raw_data[0]\n",
    "\n",
    "#map columns to the number which they are in\n",
    "colmap = {k:v for v,k in enumerate(columns)}\n",
    "colmap_r = {v:k for k,v in colmap.items()}\n",
    "\n",
    "noheader = raw_data[1:]"
   ]
  },
  {
   "cell_type": "markdown",
   "metadata": {},
   "source": [
    "## A medical claim is denoted by a claim number ('Claim.Number'). Each claim consists of one or more medical lines denoted by a claim line number ('Claim.Line.Number').\n",
    "\n",
    "### 1. J-codes are procedure codes that start with the letter 'J'."
   ]
  },
  {
   "cell_type": "markdown",
   "metadata": {},
   "source": [
    "     A. Find the number of claim lines that have J-codes."
   ]
  },
  {
   "cell_type": "code",
   "execution_count": 5,
   "metadata": {},
   "outputs": [],
   "source": [
    "J_codes = 0\n",
    "J_idxs = []\n",
    "\n",
    "for rownum, row in enumerate(noheader):\n",
    "#     print(row[colmap[\"Procedure.Code\"]])\n",
    "    try:\n",
    "        if row[colmap['Procedure.Code']][0] == 'J':\n",
    "            J_codes += 1\n",
    "            J_idxs.append(rownum)\n",
    "    except IndexError:\n",
    "        continue"
   ]
  },
  {
   "cell_type": "code",
   "execution_count": 6,
   "metadata": {},
   "outputs": [
    {
     "name": "stdout",
     "output_type": "stream",
     "text": [
      "The number of J-Codes is:  51029\n"
     ]
    }
   ],
   "source": [
    "print(\"The number of J-Codes is: \", J_codes)"
   ]
  },
  {
   "cell_type": "markdown",
   "metadata": {},
   "source": [
    "    B. How much was paid for J-codes to providers for 'in network' claims?"
   ]
  },
  {
   "cell_type": "code",
   "execution_count": 7,
   "metadata": {},
   "outputs": [],
   "source": [
    "total_payment = 0\n",
    "\n",
    "for rownum in J_idxs[:10]:\n",
    "    total_payment += float(noheader[rownum][colmap[\"Provider.Payment.Amount\"]])"
   ]
  },
  {
   "cell_type": "markdown",
   "metadata": {},
   "source": [
    "     C. What are the top five J-codes based on the payment to providers?"
   ]
  },
  {
   "cell_type": "code",
   "execution_count": 8,
   "metadata": {},
   "outputs": [],
   "source": [
    "codes_map = {}\n",
    "\n",
    "for rownum in J_idxs:\n",
    "    try:\n",
    "        codes_map[noheader[rownum][colmap[\"Procedure.Code\"]]] += \\\n",
    "                  float(noheader[rownum][colmap[\"Provider.Payment.Amount\"]])\n",
    "    except KeyError:\n",
    "        codes_map[noheader[rownum][colmap[\"Procedure.Code\"]]] = \\\n",
    "                  float(noheader[rownum][colmap[\"Provider.Payment.Amount\"]])\n",
    "            \n",
    "codes_inv = {v:k for k,v in codes_map.items()}"
   ]
  },
  {
   "cell_type": "code",
   "execution_count": 9,
   "metadata": {},
   "outputs": [
    {
     "name": "stdout",
     "output_type": "stream",
     "text": [
      "The Top 5 J codes are... \n",
      "J1644  :  81909.39601500003\n",
      "J3490  :  90249.91244999997\n",
      "J9310  :  168630.87357999996\n",
      "J0180  :  299776.56076499994\n",
      "J1745  :  434232.08058999997\n"
     ]
    }
   ],
   "source": [
    "print(\"The Top 5 J codes are... \")\n",
    "for val in sorted(codes_map.values())[-5:]:\n",
    "    print(codes_inv[val], \" : \", val)"
   ]
  },
  {
   "cell_type": "markdown",
   "metadata": {},
   "source": [
    "### 2. For the following exercises, determine the number of providers that were paid for at least one J-code. Use the J-code claims for these providers to complete the following exercises.\n",
    "\n",
    "    A. Create a scatter plot that displays the number of unpaid claims (lines where the ‘Provider.Payment.Amount’ field is equal to zero) for each provider versus the number of paid claims.    "
   ]
  },
  {
   "cell_type": "code",
   "execution_count": 10,
   "metadata": {
    "collapsed": true
   },
   "outputs": [],
   "source": [
    "jdf = [noheader[idx] for idx in J_idxs]"
   ]
  },
  {
   "cell_type": "code",
   "execution_count": 11,
   "metadata": {},
   "outputs": [],
   "source": [
    "unpaid_claims = Counter()\n",
    "paid_claims = Counter()\n",
    "\n",
    "for row in jdf:\n",
    "    if int(float(row[colmap[\"Provider.Payment.Amount\"]])) == 0:\n",
    "        unpaid_claims[row[colmap[\"Provider.ID\"]]] += 1\n",
    "    else:\n",
    "        paid_claims[row[colmap[\"Provider.ID\"]]] += 1"
   ]
  },
  {
   "cell_type": "code",
   "execution_count": 12,
   "metadata": {},
   "outputs": [
    {
     "name": "stdout",
     "output_type": "stream",
     "text": [
      "15\n",
      "13\n"
     ]
    }
   ],
   "source": [
    "print(len(unpaid_claims.keys()))\n",
    "print(len(paid_claims.keys()))"
   ]
  },
  {
   "cell_type": "code",
   "execution_count": 13,
   "metadata": {
    "collapsed": true
   },
   "outputs": [],
   "source": [
    "x = [paid_claims[k] for k in unpaid_claims.keys()]\n",
    "y = [unpaid_claims[k] for k in unpaid_claims.keys()]"
   ]
  },
  {
   "cell_type": "code",
   "execution_count": 14,
   "metadata": {},
   "outputs": [
    {
     "data": {
      "text/plain": [
       "(-5, 15000)"
      ]
     },
     "execution_count": 14,
     "metadata": {},
     "output_type": "execute_result"
    },
    {
     "data": {
      "image/png": "[encoded data removed]",
      "text/plain": [
       "<matplotlib.figure.Figure at 0x115e237b8>"
      ]
     },
     "metadata": {},
     "output_type": "display_data"
    }
   ],
   "source": [
    "fig, ax = plt.subplots(1,1, figsize=(15,15))\n",
    "ax.scatter(x, y);\n",
    "ax.set_title(\"Paid Claims vs Unpaid Claims\")\n",
    "ax.set_xlabel(\"Paid Claims\")\n",
    "ax.set_ylabel(\"Unpaid Claims\")\n",
    "ax.set_ylim(-5,15000)\n",
    "ax.set_xlim(-5,15000)"
   ]
  },
  {
   "cell_type": "markdown",
   "metadata": {},
   "source": [
    "    B. What insights can you suggest from the graph?"
   ]
  },
  {
   "cell_type": "raw",
   "metadata": {},
   "source": [
    "There apears to be a somewhat linear relationship between the number of Paid claims and the number of unpaid claims, but in almost all cases, unpaid claims outnumber paid claims significently."
   ]
  },
  {
   "cell_type": "markdown",
   "metadata": {},
   "source": [
    "    C. Based on the graph, is the behavior of any of the providers concerning? Explain."
   ]
  },
  {
   "cell_type": "raw",
   "metadata": {},
   "source": [
    "Based on the graph, it appears that most providers have significently more unpaid claims then paid, claims, this would seem to be an indication that this buisness is not equitable"
   ]
  },
  {
   "cell_type": "markdown",
   "metadata": {},
   "source": [
    "### 3. Consider all claim lines with a J-code.\n",
    "\n",
    "    A. What percentage of J-code claim lines were unpaid?"
   ]
  },
  {
   "cell_type": "code",
   "execution_count": 15,
   "metadata": {
    "collapsed": true
   },
   "outputs": [],
   "source": [
    "unpaid_count = 0\n",
    "paid_count = 0\n",
    "\n",
    "for row in jdf:\n",
    "    if int(float(row[colmap[\"Provider.Payment.Amount\"]])) == 0:\n",
    "        unpaid_count += 1\n",
    "    else:\n",
    "        paid_count += 1"
   ]
  },
  {
   "cell_type": "code",
   "execution_count": 16,
   "metadata": {},
   "outputs": [
    {
     "name": "stdout",
     "output_type": "stream",
     "text": [
      "88.30% of all claims were unpaid\n"
     ]
    }
   ],
   "source": [
    "print(\"{:.2f}% of all claims were unpaid\".format(unpaid_count / (unpaid_count + paid_count) * 100))"
   ]
  },
  {
   "cell_type": "markdown",
   "metadata": {},
   "source": [
    "    B. Create a model to predict when a J-code is unpaid. Explain why you choose the modeling approach."
   ]
  },
  {
   "cell_type": "code",
   "execution_count": 17,
   "metadata": {},
   "outputs": [],
   "source": [
    "model_cols = []\n",
    "\n",
    "numeric_cols = [\n",
    "    'Subscriber.Payment.Amount',\n",
    "    'Claim.Charge.Amount',\n",
    "]\n",
    "\n",
    "dummy_cols = {\n",
    "    \"Provider.ID\" : {},\n",
    "    \"Line.Of.Business.ID\" : {},\n",
    "    \"Service.Code\": {},\n",
    "    \"In.Out.Of.Network\" : {},\n",
    "    \"Network.ID\": {},\n",
    "    \"Agreement.ID\" : {},\n",
    "    \"Price.Index\": {},\n",
    "    \"Claim.Type\": {},\n",
    "    \"Procedure.Code\": {},\n",
    "    \"Revenue.Code\": {}\n",
    "}\n",
    "\n",
    "for rownum, row in enumerate(jdf):\n",
    "    for col in dummy_cols.keys():\n",
    "        try:\n",
    "            dummy_cols[col][rownum].add(row[colmap[col]])\n",
    "        except KeyError:\n",
    "            dummy_cols[col][row[colmap[col]]] = {rownum}"
   ]
  },
  {
   "cell_type": "code",
   "execution_count": 18,
   "metadata": {},
   "outputs": [],
   "source": [
    "for colname, dumdict in dummy_cols.items():\n",
    "    for dummy in dumdict.keys():\n",
    "        model_cols.append(\"{}${}\".format(colname, dummy))"
   ]
  },
  {
   "cell_type": "code",
   "execution_count": 19,
   "metadata": {},
   "outputs": [],
   "source": [
    "model_df = []\n",
    "\n",
    "for idx, row in enumerate(jdf):\n",
    "    ith_row = []\n",
    "    for colname in model_cols:\n",
    "        col, val = colname.split(\"$\")\n",
    "        if idx in dummy_cols[col][val]:\n",
    "            ith_row.append(1)\n",
    "        else:\n",
    "            ith_row.append(0)\n",
    "    for numeric in numeric_cols:\n",
    "        ith_row.append(float(row[colmap[numeric]]))\n",
    "    if float(row[colmap[\"Provider.Payment.Amount\"]]) > 0.00:\n",
    "        ith_row.append(0.0)\n",
    "    else:\n",
    "        ith_row.append(1.0)\n",
    "#     ith_row.append(float(row[colmap[\"Provider.Payment.Amount\"]]) > 0)\n",
    "    model_df.append(ith_row)"
   ]
  },
  {
   "cell_type": "code",
   "execution_count": 20,
   "metadata": {
    "collapsed": true
   },
   "outputs": [],
   "source": [
    "for numeric_col in numeric_cols:\n",
    "    model_cols.append(numeric_col)"
   ]
  },
  {
   "cell_type": "code",
   "execution_count": 21,
   "metadata": {
    "collapsed": true
   },
   "outputs": [],
   "source": [
    "np_df = np.array(model_df)"
   ]
  },
  {
   "cell_type": "code",
   "execution_count": 22,
   "metadata": {
    "collapsed": true
   },
   "outputs": [],
   "source": [
    "true_vals = np_df[np_df[:,-1] == 1.0]\n",
    "false_vals = np_df[np_df[:,-1] == 0.0]"
   ]
  },
  {
   "cell_type": "code",
   "execution_count": 23,
   "metadata": {
    "collapsed": true
   },
   "outputs": [],
   "source": [
    "np.random.shuffle(true_vals)"
   ]
  },
  {
   "cell_type": "code",
   "execution_count": 24,
   "metadata": {},
   "outputs": [],
   "source": [
    "b_df = np.concatenate([false_vals, true_vals[:false_vals.shape[0]]])"
   ]
  },
  {
   "cell_type": "code",
   "execution_count": 25,
   "metadata": {
    "collapsed": true
   },
   "outputs": [],
   "source": [
    "np.random.shuffle(b_df)"
   ]
  },
  {
   "cell_type": "code",
   "execution_count": 26,
   "metadata": {},
   "outputs": [],
   "source": [
    "vals = np.random.random(b_df.shape[0])\n",
    "folds = [vals < .2,\n",
    "         ((vals >= .2) & (vals < .4)),\n",
    "         ((vals >= .4) & (vals < .6)),\n",
    "         ((vals >= .6) & (vals < .8)),\n",
    "         vals >= .8]"
   ]
  },
  {
   "cell_type": "code",
   "execution_count": 27,
   "metadata": {
    "collapsed": true
   },
   "outputs": [],
   "source": [
    "from sklearn.ensemble import RandomForestClassifier\n",
    "from xgboost import XGBClassifier\n",
    "from sklearn.linear_model import LogisticRegression\n",
    "from sklearn.svm import SVC"
   ]
  },
  {
   "cell_type": "code",
   "execution_count": 28,
   "metadata": {},
   "outputs": [
    {
     "name": "stdout",
     "output_type": "stream",
     "text": [
      "LogisticRegression\n",
      "\t 0.512106788079\n",
      "\t 0.51343314192\n",
      "\t 0.512852276247\n",
      "\t 0.495628921115\n",
      "\t 0.515126569253\n",
      "Random Forest Classifier\n",
      "\t 0.618687913907\n",
      "\t 0.625102543068\n",
      "\t 0.613296170125\n",
      "\t 0.623161575645\n",
      "\t 0.621012554023\n",
      "XG Boost Classifier\n",
      "\t 0.603166390728\n",
      "\t 0.604901558655\n",
      "\t 0.598327655621\n",
      "\t 0.599814871953\n",
      "\t 0.601564107841\n",
      "Support Vector Classifier\n",
      "\t 0.567570364238\n",
      "\t 0.561320754717\n",
      "\t 0.54588623929\n",
      "\t 0.557441118996\n",
      "\t 0.564210742951\n"
     ]
    }
   ],
   "source": [
    "print(\"LogisticRegression\")\n",
    "for fold in np.arange(len(folds)):\n",
    "    model = LogisticRegression()\n",
    "    model.fit(b_df[folds[fold], :-1], b_df[folds[fold], -1])\n",
    "    predictions = model.predict(b_df[~folds[fold],:-1])\n",
    "    print(\"\\t\", (predictions == b_df[~folds[fold],-1]).sum() / b_df[~folds[fold]].shape[0])\n",
    "\n",
    "print(\"Random Forest Classifier\")\n",
    "for fold in np.arange(len(folds)):\n",
    "    model = RandomForestClassifier(n_estimators=500, n_jobs=-1)\n",
    "    model.fit(b_df[folds[fold], :-1], b_df[folds[fold], -1])\n",
    "    predictions = model.predict(b_df[~folds[fold],:-1])\n",
    "    print(\"\\t\", (predictions == b_df[~folds[fold],-1]).sum() / b_df[~folds[fold]].shape[0])\n",
    "    \n",
    "print(\"XG Boost Classifier\")\n",
    "for fold in np.arange(len(folds)):\n",
    "    model = XGBClassifier(max_depth=5, n_estimators=500, n_jobs=-1)\n",
    "    model.fit(b_df[folds[fold], :-1], b_df[folds[fold], -1])\n",
    "    predictions = model.predict(b_df[~folds[fold],:-1])\n",
    "    print(\"\\t\", (predictions == b_df[~folds[fold],-1]).sum() / b_df[~folds[fold]].shape[0])\n",
    "    \n",
    "print(\"Support Vector Classifier\")\n",
    "for fold in np.arange(len(folds)):\n",
    "    model = SVC(degree=5)\n",
    "    model.fit(b_df[folds[fold], :-1], b_df[folds[fold], -1])\n",
    "    predictions = model.predict(b_df[~folds[fold],:-1])\n",
    "    print(\"\\t\", (predictions == b_df[~folds[fold],-1]).sum() / b_df[~folds[fold]].shape[0])"
   ]
  },
  {
   "cell_type": "markdown",
   "metadata": {},
   "source": [
    "\n",
    "    C. How accurate is your model at predicting unpaid claims?"
   ]
  },
  {
   "cell_type": "raw",
   "metadata": {},
   "source": [
    "The model is not very accurate, Logistic Regression is about equal to a coin flip, but Random Forest seems to get around 62% accuracy on a balanced class"
   ]
  },
  {
   "cell_type": "markdown",
   "metadata": {},
   "source": [
    "    D. What data attributes are predominately influencing the rate of non-payment?"
   ]
  },
  {
   "cell_type": "code",
   "execution_count": 424,
   "metadata": {},
   "outputs": [
    {
     "data": {
      "text/plain": [
       "Index(['Claim.Number', 'Claim.Line.Number', 'Member.ID', 'Provider.ID',\n",
       "       'Line.Of.Business.ID', 'Revenue.Code', 'Service.Code',\n",
       "       'Place.Of.Service.Code', 'Procedure.Code', 'Diagnosis.Code',\n",
       "       'Claim.Charge.Amount', 'Denial.Reason.Code', 'Price.Index',\n",
       "       'In.Out.Of.Network', 'Reference.Index', 'Pricing.Index',\n",
       "       'Capitation.Index', 'Subscriber.Payment.Amount',\n",
       "       'Provider.Payment.Amount', 'Group.Index', 'Subscriber.Index',\n",
       "       'Subgroup.Index', 'Claim.Type', 'Claim.Subscriber.Type',\n",
       "       'Claim.Pre.Prince.Index', 'Claim.Current.Status', 'Network.ID',\n",
       "       'Agreement.ID'],\n",
       "      dtype='object')"
      ]
     },
     "execution_count": 424,
     "metadata": {},
     "output_type": "execute_result"
    }
   ],
   "source": [
    "df.columns"
   ]
  },
  {
   "cell_type": "code",
   "execution_count": null,
   "metadata": {
    "collapsed": true
   },
   "outputs": [],
   "source": []
  }
 ],
 "metadata": {
  "kernelspec": {
   "display_name": "Python 3",
   "language": "python",
   "name": "python3"
  },
  "language_info": {
   "codemirror_mode": {
    "name": "ipython",
    "version": 3
   },
   "file_extension": ".py",
   "mimetype": "text/x-python",
   "name": "python",
   "nbconvert_exporter": "python",
   "pygments_lexer": "ipython3",
   "version": "3.6.1"
  }
 },
 "nbformat": 4,
 "nbformat_minor": 2
}
